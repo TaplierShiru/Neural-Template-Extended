{
 "cells": [
  {
   "cell_type": "code",
   "execution_count": 1,
   "id": "fd94fe42",
   "metadata": {},
   "outputs": [],
   "source": [
    "import torch\n",
    "from torch import nn\n",
    "import os\n",
    "\n",
    "try:\n",
    "    from models.network import AutoEncoder\n",
    "except ModuleNotFoundError:\n",
    "    # Append base path with all needed code\n",
    "    import pathlib\n",
    "    import sys\n",
    "    sys.path.append('../')\n",
    "    # Try again\n",
    "    from models.network import AutoEncoder\n",
    "\n",
    "device = torch.device('cuda') if torch.cuda.is_available() else torch.device('cpu')\n",
    "    \n",
    "def process_state_dict(network_state_dict, type = 0):\n",
    "\n",
    "    if torch.cuda.device_count() >= 2 and type == 0:\n",
    "        for key, item in list(network_state_dict.items()):\n",
    "            if key[:7] != 'module.':\n",
    "                new_key = 'module.' + key\n",
    "                network_state_dict[new_key] = item\n",
    "                del network_state_dict[key]\n",
    "    else:\n",
    "        for key, item in list(network_state_dict.items()):\n",
    "            if key[:7] == 'module.':\n",
    "                new_key = key[7:]\n",
    "                network_state_dict[new_key] = item\n",
    "                del network_state_dict[key]\n",
    "\n",
    "    return network_state_dict"
   ]
  },
  {
   "cell_type": "code",
   "execution_count": 2,
   "id": "e6d104c1",
   "metadata": {},
   "outputs": [
    {
     "data": {
      "text/plain": [
       "'1.12.0+cu102'"
      ]
     },
     "execution_count": 2,
     "metadata": {},
     "output_type": "execute_result"
    }
   ],
   "source": [
    "torch.__version__"
   ]
  },
  {
   "cell_type": "code",
   "execution_count": 3,
   "id": "6c7c62f3",
   "metadata": {},
   "outputs": [],
   "source": [
    "import importlib\n",
    "\n",
    "## import config here\n",
    "spec = importlib.util.spec_from_file_location('*', '../configs/config_discrete_class.py')\n",
    "config = importlib.util.module_from_spec(spec)\n",
    "spec.loader.exec_module(config)"
   ]
  },
  {
   "cell_type": "code",
   "execution_count": 4,
   "id": "34c7176b",
   "metadata": {},
   "outputs": [
    {
     "name": "stdout",
     "output_type": "stream",
     "text": [
      "Use 4 GPUS!\n"
     ]
    }
   ],
   "source": [
    "network = AutoEncoder(config=config)\n",
    "if torch.cuda.is_available() and torch.cuda.device_count() > 1:\n",
    "    print(f\"Use {torch.cuda.device_count()} GPUS!\")\n",
    "    network = nn.DataParallel(network)\n",
    "network = network.to(device)"
   ]
  },
  {
   "cell_type": "code",
   "execution_count": 12,
   "id": "7d3c6321",
   "metadata": {},
   "outputs": [
    {
     "data": {
      "text/plain": [
       "odict_keys(['module.encoder.conv_1.weight', 'module.encoder.conv_1.bias', 'module.encoder.conv_2.weight', 'module.encoder.conv_2.bias', 'module.encoder.conv_3.weight', 'module.encoder.conv_3.bias', 'module.encoder.conv_4.weight', 'module.encoder.conv_4.bias', 'module.encoder.conv_5.weight', 'module.encoder.conv_5.bias', 'module.decoder.mean_parms', 'module.decoder.sqrt_end_time', 'module.decoder.ode_layers.0.ode_net.context_linear.weight', 'module.decoder.ode_layers.0.ode_net.context_linear.bias', 'module.decoder.ode_layers.0.ode_net.coordinate_linear.weight', 'module.decoder.ode_layers.0.ode_net.coordinate_linear.bias', 'module.decoder.ode_layers.0.ode_net.last_linear.weight', 'module.decoder.ode_layers.0.ode_net.last_linear.bias', 'module.decoder.ode_layers.0.ode_net.layers.0.weight', 'module.decoder.ode_layers.0.ode_net.layers.0.bias', 'module.decoder.ode_layers.0.ode_net.layers.1.weight', 'module.decoder.ode_layers.0.ode_net.layers.1.bias', 'module.decoder.linear_layer.weight', 'module.decoder.linear_layer.bias', 'module.decoder.bsp_field.concave_layer_weights', 'module.decoder.bsp_field.convex_layer_weights', 'module.decoder.bsp_field.plane_encoder.linear_1.weight', 'module.decoder.bsp_field.plane_encoder.linear_1.bias', 'module.decoder.bsp_field.plane_encoder.linear_2.weight', 'module.decoder.bsp_field.plane_encoder.linear_2.bias', 'module.decoder.bsp_field.plane_encoder.linear_3.weight', 'module.decoder.bsp_field.plane_encoder.linear_3.bias', 'module.decoder.bsp_field.plane_encoder.linear_4.weight', 'module.decoder.bsp_field.plane_encoder.linear_4.bias', 'module.decoder.recognition_decoder.linear_1.weight', 'module.decoder.recognition_decoder.linear_1.bias', 'module.decoder.recognition_decoder.linear_2.weight', 'module.decoder.recognition_decoder.linear_2.bias', 'module.decoder.recognition_decoder.linear_3.weight', 'module.decoder.recognition_decoder.linear_3.bias', 'module.decoder.recognition_decoder.linear_4.weight', 'module.decoder.recognition_decoder.linear_4.bias'])"
      ]
     },
     "execution_count": 12,
     "metadata": {},
     "output_type": "execute_result"
    }
   ],
   "source": [
    "load_path = '/path/to/res/train_neural_template/' +\\\n",
    "    '2023-07-01_11-31-15_IM-Net-Training-experiment-home-AutoEncoder-3DCNN-Flow/model_epoch_2_325.pth'\n",
    "\n",
    "network_state_dict = torch.load(load_path)\n",
    "\n",
    "network_state_dict = process_state_dict(network_state_dict)\n",
    "network_state_dict.keys()"
   ]
  },
  {
   "cell_type": "code",
   "execution_count": 9,
   "id": "acd5316f",
   "metadata": {},
   "outputs": [
    {
     "ename": "RuntimeError",
     "evalue": "Error(s) in loading state_dict for DataParallel:\n\tMissing key(s) in state_dict: \"module.encoder.conv_1.weight\", \"module.encoder.conv_1.bias\", \"module.encoder.conv_2.weight\", \"module.encoder.conv_2.bias\", \"module.encoder.conv_3.weight\", \"module.encoder.conv_3.bias\", \"module.encoder.conv_4.weight\", \"module.encoder.conv_4.bias\", \"module.encoder.conv_5.weight\", \"module.encoder.conv_5.bias\", \"module.decoder.mean_parms\", \"module.decoder.sqrt_end_time\", \"module.decoder.ode_layers.0.ode_net.context_linear.weight\", \"module.decoder.ode_layers.0.ode_net.context_linear.bias\", \"module.decoder.ode_layers.0.ode_net.coordinate_linear.weight\", \"module.decoder.ode_layers.0.ode_net.coordinate_linear.bias\", \"module.decoder.ode_layers.0.ode_net.last_linear.weight\", \"module.decoder.ode_layers.0.ode_net.last_linear.bias\", \"module.decoder.ode_layers.0.ode_net.layers.0.weight\", \"module.decoder.ode_layers.0.ode_net.layers.0.bias\", \"module.decoder.ode_layers.0.ode_net.layers.1.weight\", \"module.decoder.ode_layers.0.ode_net.layers.1.bias\", \"module.decoder.linear_layer.weight\", \"module.decoder.linear_layer.bias\", \"module.decoder.bsp_field.concave_layer_weights\", \"module.decoder.bsp_field.convex_layer_weights\", \"module.decoder.bsp_field.plane_encoder.linear_1.weight\", \"module.decoder.bsp_field.plane_encoder.linear_1.bias\", \"module.decoder.bsp_field.plane_encoder.linear_2.weight\", \"module.decoder.bsp_field.plane_encoder.linear_2.bias\", \"module.decoder.bsp_field.plane_encoder.linear_3.weight\", \"module.decoder.bsp_field.plane_encoder.linear_3.bias\", \"module.decoder.bsp_field.plane_encoder.linear_4.weight\", \"module.decoder.bsp_field.plane_encoder.linear_4.bias\", \"module.decoder.recognition_decoder.linear_1.weight\", \"module.decoder.recognition_decoder.linear_1.bias\", \"module.decoder.recognition_decoder.linear_2.weight\", \"module.decoder.recognition_decoder.linear_2.bias\", \"module.decoder.recognition_decoder.linear_3.weight\", \"module.decoder.recognition_decoder.linear_3.bias\", \"module.decoder.recognition_decoder.linear_4.weight\", \"module.decoder.recognition_decoder.linear_4.bias\". \n\tUnexpected key(s) in state_dict: \"module.state\", \"module.param_groups\". ",
     "output_type": "error",
     "traceback": [
      "\u001b[0;31m---------------------------------------------------------------------------\u001b[0m",
      "\u001b[0;31mRuntimeError\u001b[0m                              Traceback (most recent call last)",
      "Cell \u001b[0;32mIn[9], line 1\u001b[0m\n\u001b[0;32m----> 1\u001b[0m \u001b[43mnetwork\u001b[49m\u001b[38;5;241;43m.\u001b[39;49m\u001b[43mload_state_dict\u001b[49m\u001b[43m(\u001b[49m\u001b[43mnetwork_state_dict\u001b[49m\u001b[43m)\u001b[49m\n",
      "File \u001b[0;32m/usr/local/lib/python3.8/dist-packages/torch/nn/modules/module.py:1604\u001b[0m, in \u001b[0;36mModule.load_state_dict\u001b[0;34m(self, state_dict, strict)\u001b[0m\n\u001b[1;32m   1599\u001b[0m         error_msgs\u001b[38;5;241m.\u001b[39minsert(\n\u001b[1;32m   1600\u001b[0m             \u001b[38;5;241m0\u001b[39m, \u001b[38;5;124m'\u001b[39m\u001b[38;5;124mMissing key(s) in state_dict: \u001b[39m\u001b[38;5;132;01m{}\u001b[39;00m\u001b[38;5;124m. \u001b[39m\u001b[38;5;124m'\u001b[39m\u001b[38;5;241m.\u001b[39mformat(\n\u001b[1;32m   1601\u001b[0m                 \u001b[38;5;124m'\u001b[39m\u001b[38;5;124m, \u001b[39m\u001b[38;5;124m'\u001b[39m\u001b[38;5;241m.\u001b[39mjoin(\u001b[38;5;124m'\u001b[39m\u001b[38;5;124m\"\u001b[39m\u001b[38;5;132;01m{}\u001b[39;00m\u001b[38;5;124m\"\u001b[39m\u001b[38;5;124m'\u001b[39m\u001b[38;5;241m.\u001b[39mformat(k) \u001b[38;5;28;01mfor\u001b[39;00m k \u001b[38;5;129;01min\u001b[39;00m missing_keys)))\n\u001b[1;32m   1603\u001b[0m \u001b[38;5;28;01mif\u001b[39;00m \u001b[38;5;28mlen\u001b[39m(error_msgs) \u001b[38;5;241m>\u001b[39m \u001b[38;5;241m0\u001b[39m:\n\u001b[0;32m-> 1604\u001b[0m     \u001b[38;5;28;01mraise\u001b[39;00m \u001b[38;5;167;01mRuntimeError\u001b[39;00m(\u001b[38;5;124m'\u001b[39m\u001b[38;5;124mError(s) in loading state_dict for \u001b[39m\u001b[38;5;132;01m{}\u001b[39;00m\u001b[38;5;124m:\u001b[39m\u001b[38;5;130;01m\\n\u001b[39;00m\u001b[38;5;130;01m\\t\u001b[39;00m\u001b[38;5;132;01m{}\u001b[39;00m\u001b[38;5;124m'\u001b[39m\u001b[38;5;241m.\u001b[39mformat(\n\u001b[1;32m   1605\u001b[0m                        \u001b[38;5;28mself\u001b[39m\u001b[38;5;241m.\u001b[39m\u001b[38;5;18m__class__\u001b[39m\u001b[38;5;241m.\u001b[39m\u001b[38;5;18m__name__\u001b[39m, \u001b[38;5;124m\"\u001b[39m\u001b[38;5;130;01m\\n\u001b[39;00m\u001b[38;5;130;01m\\t\u001b[39;00m\u001b[38;5;124m\"\u001b[39m\u001b[38;5;241m.\u001b[39mjoin(error_msgs)))\n\u001b[1;32m   1606\u001b[0m \u001b[38;5;28;01mreturn\u001b[39;00m _IncompatibleKeys(missing_keys, unexpected_keys)\n",
      "\u001b[0;31mRuntimeError\u001b[0m: Error(s) in loading state_dict for DataParallel:\n\tMissing key(s) in state_dict: \"module.encoder.conv_1.weight\", \"module.encoder.conv_1.bias\", \"module.encoder.conv_2.weight\", \"module.encoder.conv_2.bias\", \"module.encoder.conv_3.weight\", \"module.encoder.conv_3.bias\", \"module.encoder.conv_4.weight\", \"module.encoder.conv_4.bias\", \"module.encoder.conv_5.weight\", \"module.encoder.conv_5.bias\", \"module.decoder.mean_parms\", \"module.decoder.sqrt_end_time\", \"module.decoder.ode_layers.0.ode_net.context_linear.weight\", \"module.decoder.ode_layers.0.ode_net.context_linear.bias\", \"module.decoder.ode_layers.0.ode_net.coordinate_linear.weight\", \"module.decoder.ode_layers.0.ode_net.coordinate_linear.bias\", \"module.decoder.ode_layers.0.ode_net.last_linear.weight\", \"module.decoder.ode_layers.0.ode_net.last_linear.bias\", \"module.decoder.ode_layers.0.ode_net.layers.0.weight\", \"module.decoder.ode_layers.0.ode_net.layers.0.bias\", \"module.decoder.ode_layers.0.ode_net.layers.1.weight\", \"module.decoder.ode_layers.0.ode_net.layers.1.bias\", \"module.decoder.linear_layer.weight\", \"module.decoder.linear_layer.bias\", \"module.decoder.bsp_field.concave_layer_weights\", \"module.decoder.bsp_field.convex_layer_weights\", \"module.decoder.bsp_field.plane_encoder.linear_1.weight\", \"module.decoder.bsp_field.plane_encoder.linear_1.bias\", \"module.decoder.bsp_field.plane_encoder.linear_2.weight\", \"module.decoder.bsp_field.plane_encoder.linear_2.bias\", \"module.decoder.bsp_field.plane_encoder.linear_3.weight\", \"module.decoder.bsp_field.plane_encoder.linear_3.bias\", \"module.decoder.bsp_field.plane_encoder.linear_4.weight\", \"module.decoder.bsp_field.plane_encoder.linear_4.bias\", \"module.decoder.recognition_decoder.linear_1.weight\", \"module.decoder.recognition_decoder.linear_1.bias\", \"module.decoder.recognition_decoder.linear_2.weight\", \"module.decoder.recognition_decoder.linear_2.bias\", \"module.decoder.recognition_decoder.linear_3.weight\", \"module.decoder.recognition_decoder.linear_3.bias\", \"module.decoder.recognition_decoder.linear_4.weight\", \"module.decoder.recognition_decoder.linear_4.bias\". \n\tUnexpected key(s) in state_dict: \"module.state\", \"module.param_groups\". "
     ]
    }
   ],
   "source": [
    "network.load_state_dict(network_state_dict)"
   ]
  },
  {
   "cell_type": "code",
   "execution_count": 12,
   "id": "e172e6b8",
   "metadata": {},
   "outputs": [],
   "source": [
    "torch.save(network.state_dict(), './test_save.pth')"
   ]
  },
  {
   "cell_type": "code",
   "execution_count": 20,
   "id": "5e0cf8b1",
   "metadata": {},
   "outputs": [
    {
     "data": {
      "text/plain": [
       "[{'lr': 5e-05,\n",
       "  'betas': (0.5, 0.999),\n",
       "  'eps': 1e-08,\n",
       "  'weight_decay': 0,\n",
       "  'amsgrad': False,\n",
       "  'maximize': False,\n",
       "  'foreach': None,\n",
       "  'capturable': False,\n",
       "  'differentiable': False,\n",
       "  'fused': False,\n",
       "  'params': [0,\n",
       "   1,\n",
       "   2,\n",
       "   3,\n",
       "   4,\n",
       "   5,\n",
       "   6,\n",
       "   7,\n",
       "   8,\n",
       "   9,\n",
       "   10,\n",
       "   11,\n",
       "   12,\n",
       "   13,\n",
       "   14,\n",
       "   15,\n",
       "   16,\n",
       "   17,\n",
       "   18,\n",
       "   19,\n",
       "   20,\n",
       "   21,\n",
       "   22,\n",
       "   23,\n",
       "   24,\n",
       "   25,\n",
       "   26,\n",
       "   27,\n",
       "   28,\n",
       "   29,\n",
       "   30,\n",
       "   31,\n",
       "   32,\n",
       "   33,\n",
       "   34,\n",
       "   35,\n",
       "   36,\n",
       "   37,\n",
       "   38,\n",
       "   39,\n",
       "   40,\n",
       "   41]}]"
      ]
     },
     "execution_count": 20,
     "metadata": {},
     "output_type": "execute_result"
    }
   ],
   "source": [
    "network_state_dict['module.param_groups']"
   ]
  },
  {
   "cell_type": "code",
   "execution_count": null,
   "id": "a5891be2",
   "metadata": {},
   "outputs": [],
   "source": []
  },
  {
   "cell_type": "code",
   "execution_count": null,
   "id": "913b454b",
   "metadata": {},
   "outputs": [],
   "source": []
  },
  {
   "cell_type": "code",
   "execution_count": 6,
   "id": "b6b5f761",
   "metadata": {},
   "outputs": [],
   "source": [
    "import numpy as np\n",
    "\n",
    "arr = np.random.randn(2, 24, 120, 120, 3)\n",
    "arr1 = np.random.randn(2, 24, 120, 120, 3)"
   ]
  },
  {
   "cell_type": "code",
   "execution_count": 7,
   "id": "3d604db8",
   "metadata": {},
   "outputs": [
    {
     "data": {
      "text/plain": [
       "(2, 24, 120, 120, 1, 3)"
      ]
     },
     "execution_count": 7,
     "metadata": {},
     "output_type": "execute_result"
    }
   ],
   "source": [
    "arr[:, :, :, :, None].shape"
   ]
  },
  {
   "cell_type": "code",
   "execution_count": null,
   "id": "ab34ceb4",
   "metadata": {},
   "outputs": [],
   "source": []
  },
  {
   "cell_type": "code",
   "execution_count": null,
   "id": "72314b2d",
   "metadata": {},
   "outputs": [],
   "source": []
  },
  {
   "cell_type": "code",
   "execution_count": 1,
   "id": "726eb8ba",
   "metadata": {},
   "outputs": [
    {
     "name": "stderr",
     "output_type": "stream",
     "text": [
      "/usr/local/lib/python3.8/dist-packages/tqdm/auto.py:22: TqdmWarning: IProgress not found. Please update jupyter and ipywidgets. See https://ipywidgets.readthedocs.io/en/stable/user_install.html\n",
      "  from .autonotebook import tqdm as notebook_tqdm\n"
     ]
    }
   ],
   "source": [
    "import torch\n",
    "import torch.nn.functional as F\n",
    "\n",
    "import numpy as np"
   ]
  },
  {
   "cell_type": "code",
   "execution_count": 200,
   "id": "d951acdc",
   "metadata": {},
   "outputs": [],
   "source": [
    "bn = torch.nn.BatchNorm2d(4).cpu()"
   ]
  },
  {
   "cell_type": "code",
   "execution_count": 201,
   "id": "38a081a3",
   "metadata": {},
   "outputs": [],
   "source": [
    "bn.weight.requires_grad = False"
   ]
  },
  {
   "cell_type": "code",
   "execution_count": 202,
   "id": "9a766008",
   "metadata": {},
   "outputs": [],
   "source": [
    "t_z = torch.from_numpy(np.ones( (1, 4, 4, 4) ) * 100).float()\n",
    "t = torch.rand(1, 4, 4, 4, requires_grad=True).float()"
   ]
  },
  {
   "cell_type": "code",
   "execution_count": 203,
   "id": "2a96b6ed",
   "metadata": {},
   "outputs": [
    {
     "data": {
      "text/plain": [
       "tensor([[[[0.1881, 0.7187, 0.2104, 0.2221],\n",
       "          [0.8252, 0.0773, 0.6189, 0.8774],\n",
       "          [0.3207, 0.4527, 0.3888, 0.3276],\n",
       "          [0.1700, 0.4823, 0.5137, 0.7986]],\n",
       "\n",
       "         [[0.6632, 0.6943, 0.5005, 0.3868],\n",
       "          [0.7616, 0.6865, 0.5945, 0.0834],\n",
       "          [0.9453, 0.3598, 0.7002, 0.9613],\n",
       "          [0.4366, 0.6929, 0.3710, 0.4919]],\n",
       "\n",
       "         [[0.4835, 0.3189, 0.7357, 0.3430],\n",
       "          [0.4408, 0.6465, 0.2445, 0.3672],\n",
       "          [0.6501, 0.6324, 0.9951, 0.3063],\n",
       "          [0.4325, 0.2988, 0.1153, 0.2191]],\n",
       "\n",
       "         [[0.8946, 0.0480, 0.9874, 0.5353],\n",
       "          [0.3821, 0.0091, 0.1255, 0.7976],\n",
       "          [0.9778, 0.4896, 0.0179, 0.9502],\n",
       "          [0.1056, 0.5423, 0.9121, 0.3488]]]], requires_grad=True)"
      ]
     },
     "execution_count": 203,
     "metadata": {},
     "output_type": "execute_result"
    }
   ],
   "source": [
    "t"
   ]
  },
  {
   "cell_type": "code",
   "execution_count": 204,
   "id": "a8701ea0",
   "metadata": {},
   "outputs": [],
   "source": [
    "optimizer = torch.optim.Adam(params=[t, bn.weight, bn.bias], lr=0.3)"
   ]
  },
  {
   "cell_type": "code",
   "execution_count": 221,
   "id": "3b0488dc",
   "metadata": {},
   "outputs": [],
   "source": [
    "optimizer.zero_grad()\n",
    "loss = ((t_z - bn(t)) ** 2).mean()\n",
    "loss.backward()\n",
    "optimizer.step()"
   ]
  },
  {
   "cell_type": "code",
   "execution_count": 222,
   "id": "b90c0991",
   "metadata": {},
   "outputs": [
    {
     "data": {
      "text/plain": [
       "(Parameter containing:\n",
       " tensor([1., 1., 1., 1.]),\n",
       " Parameter containing:\n",
       " tensor([2.6978, 2.6978, 2.6978, 2.6978], requires_grad=True))"
      ]
     },
     "execution_count": 222,
     "metadata": {},
     "output_type": "execute_result"
    }
   ],
   "source": [
    "bn.weight, bn.bias"
   ]
  },
  {
   "cell_type": "code",
   "execution_count": null,
   "id": "6aa28f1f",
   "metadata": {},
   "outputs": [],
   "source": []
  }
 ],
 "metadata": {
  "kernelspec": {
   "display_name": "Python 3 (ipykernel)",
   "language": "python",
   "name": "python3"
  },
  "language_info": {
   "codemirror_mode": {
    "name": "ipython",
    "version": 3
   },
   "file_extension": ".py",
   "mimetype": "text/x-python",
   "name": "python",
   "nbconvert_exporter": "python",
   "pygments_lexer": "ipython3",
   "version": "3.8.10"
  }
 },
 "nbformat": 4,
 "nbformat_minor": 5
}
