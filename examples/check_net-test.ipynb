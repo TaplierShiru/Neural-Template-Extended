{
 "cells": [
  {
   "cell_type": "code",
   "execution_count": null,
   "id": "2ff8bdb0",
   "metadata": {},
   "outputs": [],
   "source": [
    "import torch\n",
    "import torch.nn as nn\n",
    "import torch.nn.functional as F\n",
    "import numpy as np\n",
    "from tqdm import tqdm\n",
    "import os\n",
    "import argparse\n",
    "import importlib\n",
    "\n",
    "import pathlib\n",
    "import sys\n",
    "sys.path.append('../')\n",
    "# Try again\n",
    "from models.network import ImageAutoEncoderEndToEnd, AutoEncoder\n",
    "\n",
    "from train.implicit_trainer import Trainer\n",
    "from data.data import ImNetAllDataSamples\n",
    "from torch.utils.data import DataLoader\n",
    "from utils.debugger import MyDebugger"
   ]
  },
  {
   "cell_type": "code",
   "execution_count": null,
   "id": "bad497f2",
   "metadata": {},
   "outputs": [],
   "source": [
    "device = torch.device('cuda') if torch.cuda.is_available() else torch.device('cpu')"
   ]
  },
  {
   "cell_type": "code",
   "execution_count": 5,
   "id": "96990b50",
   "metadata": {},
   "outputs": [],
   "source": [
    "## import config here\n",
    "resume_path = '../configs/config_image_test.py'\n",
    "\n",
    "spec = importlib.util.spec_from_file_location('*', resume_path)\n",
    "config = importlib.util.module_from_spec(spec)\n",
    "spec.loader.exec_module(config)"
   ]
  },
  {
   "cell_type": "code",
   "execution_count": 8,
   "id": "5df69ebc",
   "metadata": {},
   "outputs": [],
   "source": [
    "## import config here\n",
    "spec = importlib.util.spec_from_file_location('*', resume_path)\n",
    "config = importlib.util.module_from_spec(spec)\n",
    "spec.loader.exec_module(config)\n",
    "\n",
    "config.auto_encoder_config_path = os.path.join('../', config.auto_encoder_config_path)\n",
    "config.auto_encoder_resume_path = os.path.join('../', config.auto_encoder_resume_path)\n",
    "\n",
    "auto_spec = importlib.util.spec_from_file_location('*', config.auto_encoder_config_path)\n",
    "auto_config = importlib.util.module_from_spec(auto_spec)\n",
    "auto_spec.loader.exec_module(auto_config)\n",
    "\n",
    "network = AutoEncoder(config,)\n",
    "network = network.to(device)\n",
    "\n",
    "### create dataset\n",
    "network_state_dict = torch.load(config.auto_encoder_resume_path)\n",
    "network_state_dict = ImageAutoEncoderEndToEnd.process_state_dict(network_state_dict, type = 1)\n",
    "voxel_auto_encoder = AutoEncoder(auto_config)\n",
    "voxel_auto_encoder.load_state_dict(network_state_dict)\n",
    "voxel_auto_encoder.to(device)\n",
    "_ = voxel_auto_encoder.eval()"
   ]
  },
  {
   "cell_type": "code",
   "execution_count": 9,
   "id": "16afa20a",
   "metadata": {},
   "outputs": [],
   "source": [
    "_ = network.decoder.load_state_dict(voxel_auto_encoder.decoder.state_dict())"
   ]
  },
  {
   "cell_type": "code",
   "execution_count": 6,
   "id": "703a86c9",
   "metadata": {},
   "outputs": [],
   "source": [
    "## folder for testing\n",
    "is_svr = True\n",
    "epoch = 1000\n",
    "use_phase = False\n",
    "phase = 2\n",
    "\n",
    "testing_folder = r'./../pretrain/origin/' + ('image_encoder/' if is_svr else 'phase_2_model')\n",
    "config_path = os.path.join(testing_folder, 'config.py')\n",
    "network_path = os.path.join(testing_folder, f'model_epoch{\"_\" + str(phase) if use_phase and not is_svr else \"\"}_{epoch}.pth')"
   ]
  },
  {
   "cell_type": "code",
   "execution_count": 14,
   "id": "cb3d4076",
   "metadata": {},
   "outputs": [
    {
     "data": {
      "text/plain": [
       "True"
      ]
     },
     "execution_count": 14,
     "metadata": {},
     "output_type": "execute_result"
    }
   ],
   "source": [
    "any(['image_encoder' in name_layer for name_layer in network_state_dict.keys()])"
   ]
  },
  {
   "cell_type": "code",
   "execution_count": 16,
   "id": "cb4104c8",
   "metadata": {},
   "outputs": [
    {
     "data": {
      "text/plain": [
       "'image_encoder'"
      ]
     },
     "execution_count": 16,
     "metadata": {},
     "output_type": "execute_result"
    }
   ],
   "source": [
    "'image_encoder'[:13]"
   ]
  },
  {
   "cell_type": "code",
   "execution_count": 37,
   "id": "307d4dcb",
   "metadata": {},
   "outputs": [
    {
     "name": "stdout",
     "output_type": "stream",
     "text": [
      "delete auto_encoder.encoder.conv_1.weight\n",
      "delete auto_encoder.encoder.conv_1.bias\n",
      "delete auto_encoder.encoder.conv_2.weight\n",
      "delete auto_encoder.encoder.conv_2.bias\n",
      "delete auto_encoder.encoder.conv_3.weight\n",
      "delete auto_encoder.encoder.conv_3.bias\n",
      "delete auto_encoder.encoder.conv_4.weight\n",
      "delete auto_encoder.encoder.conv_4.bias\n",
      "delete auto_encoder.encoder.conv_5.weight\n",
      "delete auto_encoder.encoder.conv_5.bias\n"
     ]
    }
   ],
   "source": [
    "network_state_dict = torch.load(network_path)\n",
    "# Saved with multi-gpu, clear it\n",
    "for key, item in list(network_state_dict.items()):\n",
    "    # Saved with multi-gpu\n",
    "    if key.startswith('module.'):\n",
    "        network_state_dict[key[len('module.'):]] = item\n",
    "        del network_state_dict[key]\n",
    "\n",
    "if any([name_layer.startswith('image_encoder.') for name_layer in network_state_dict.keys()]):\n",
    "    # Delete encoder of older model\n",
    "    for name_layer in list(network_state_dict.keys()):\n",
    "        if name_layer.startswith('encoder.') or name_layer.startswith('auto_encoder.encoder'):\n",
    "            print(f'delete {name_layer}')\n",
    "            del network_state_dict[name_layer]\n",
    "\n",
    "    for key, item in list(network_state_dict.items()):\n",
    "        if key.startswith('image_encoder.'):\n",
    "            # We should swap `image_encoder` to `encoder`\n",
    "            new_key = 'encoder.' + key[len('image_encoder.'):]\n",
    "            network_state_dict[new_key] = item\n",
    "            del network_state_dict[key]\n",
    "        if key.startswith('auto_encoder.decoder.'):\n",
    "            # We should swap `image_encoder` to `encoder`\n",
    "            new_key = 'decoder.' + key[len('auto_encoder.decoder.'):]\n",
    "            network_state_dict[new_key] = item\n",
    "            del network_state_dict[key]\n",
    "network.load_state_dict(network_state_dict)\n",
    "_ = network.eval()"
   ]
  },
  {
   "cell_type": "code",
   "execution_count": null,
   "id": "ce7712de",
   "metadata": {},
   "outputs": [],
   "source": []
  },
  {
   "cell_type": "code",
   "execution_count": null,
   "id": "07895506",
   "metadata": {},
   "outputs": [],
   "source": []
  },
  {
   "cell_type": "code",
   "execution_count": null,
   "id": "f5dfb090",
   "metadata": {},
   "outputs": [],
   "source": []
  },
  {
   "cell_type": "code",
   "execution_count": 1,
   "id": "5a7f7678",
   "metadata": {},
   "outputs": [
    {
     "name": "stderr",
     "output_type": "stream",
     "text": [
      "/usr/local/lib/python3.8/dist-packages/tqdm/auto.py:22: TqdmWarning: IProgress not found. Please update jupyter and ipywidgets. See https://ipywidgets.readthedocs.io/en/stable/user_install.html\n",
      "  from .autonotebook import tqdm as notebook_tqdm\n"
     ]
    }
   ],
   "source": [
    "import numpy as np\n",
    "import random\n",
    "import torch\n",
    "import importlib\n",
    "import os\n",
    "import argparse\n",
    "import pathlib\n",
    "import sys\n",
    "sys.path.append('../')\n",
    "from models.network import AutoEncoder\n",
    "\n",
    "\n",
    "from data.data import ImNetImageSamples, ImNetSamples\n",
    "from torch.multiprocessing import Pool, Process, set_start_method\n",
    "\n",
    "from evaluation.eval_utils import sample_points_polygon_vox64_njit\n",
    "from utils.other_utils import write_ply_point_normal\n",
    "\n",
    "device = torch.device('cuda') if torch.cuda.is_available() else torch.device('cpu')"
   ]
  },
  {
   "cell_type": "code",
   "execution_count": 2,
   "id": "3efea8a3",
   "metadata": {},
   "outputs": [],
   "source": [
    "device_id = 1\n",
    "config_path = '../pretrain/class_run_1/image_encoder/config.py'\n",
    "network_path = '../pretrain/class_run_1/image_encoder/model_epoch_1000.pth'"
   ]
  },
  {
   "cell_type": "code",
   "execution_count": 3,
   "id": "0433be81",
   "metadata": {},
   "outputs": [],
   "source": [
    "torch.cuda.set_device(device_id)\n",
    "spec = importlib.util.spec_from_file_location('*', config_path)\n",
    "config = importlib.util.module_from_spec(spec)\n",
    "spec.loader.exec_module(config)"
   ]
  },
  {
   "cell_type": "code",
   "execution_count": 4,
   "id": "a13616df",
   "metadata": {},
   "outputs": [],
   "source": [
    "network_state_dict = torch.load(network_path)"
   ]
  },
  {
   "cell_type": "code",
   "execution_count": 5,
   "id": "996a1d0a",
   "metadata": {},
   "outputs": [
    {
     "data": {
      "text/plain": [
       "['module.image_encoder.conv_0.weight',\n",
       " 'module.image_encoder.res_1.conv_1.weight',\n",
       " 'module.image_encoder.res_1.conv_2.weight',\n",
       " 'module.image_encoder.res_2.conv_1.weight',\n",
       " 'module.image_encoder.res_2.conv_2.weight',\n",
       " 'module.image_encoder.res_3.conv_1.weight',\n",
       " 'module.image_encoder.res_3.conv_2.weight',\n",
       " 'module.image_encoder.res_3.conv_s.weight',\n",
       " 'module.image_encoder.res_4.conv_1.weight',\n",
       " 'module.image_encoder.res_4.conv_2.weight',\n",
       " 'module.image_encoder.res_5.conv_1.weight',\n",
       " 'module.image_encoder.res_5.conv_2.weight',\n",
       " 'module.image_encoder.res_5.conv_s.weight',\n",
       " 'module.image_encoder.res_6.conv_1.weight',\n",
       " 'module.image_encoder.res_6.conv_2.weight',\n",
       " 'module.image_encoder.res_7.conv_1.weight',\n",
       " 'module.image_encoder.res_7.conv_2.weight',\n",
       " 'module.image_encoder.res_7.conv_s.weight',\n",
       " 'module.image_encoder.res_8.conv_1.weight',\n",
       " 'module.image_encoder.res_8.conv_2.weight',\n",
       " 'module.image_encoder.conv_9.weight',\n",
       " 'module.image_encoder.conv_9.bias',\n",
       " 'module.image_encoder.conv_10.weight',\n",
       " 'module.image_encoder.conv_10.bias',\n",
       " 'module.image_encoder.linear_1.weight',\n",
       " 'module.image_encoder.linear_1.bias',\n",
       " 'module.image_encoder.linear_2.weight',\n",
       " 'module.image_encoder.linear_2.bias',\n",
       " 'module.image_encoder.linear_3.weight',\n",
       " 'module.image_encoder.linear_3.bias',\n",
       " 'module.image_encoder.linear_4.weight',\n",
       " 'module.image_encoder.linear_4.bias',\n",
       " 'module.auto_encoder.encoder.conv_1.weight',\n",
       " 'module.auto_encoder.encoder.conv_1.bias',\n",
       " 'module.auto_encoder.encoder.conv_2.weight',\n",
       " 'module.auto_encoder.encoder.conv_2.bias',\n",
       " 'module.auto_encoder.encoder.conv_3.weight',\n",
       " 'module.auto_encoder.encoder.conv_3.bias',\n",
       " 'module.auto_encoder.encoder.conv_4.weight',\n",
       " 'module.auto_encoder.encoder.conv_4.bias',\n",
       " 'module.auto_encoder.encoder.conv_5.weight',\n",
       " 'module.auto_encoder.encoder.conv_5.bias',\n",
       " 'module.auto_encoder.decoder.mean_parms',\n",
       " 'module.auto_encoder.decoder.sqrt_end_time',\n",
       " 'module.auto_encoder.decoder.ode_layers.0.ode_net.context_linear.weight',\n",
       " 'module.auto_encoder.decoder.ode_layers.0.ode_net.context_linear.bias',\n",
       " 'module.auto_encoder.decoder.ode_layers.0.ode_net.coordinate_linear.weight',\n",
       " 'module.auto_encoder.decoder.ode_layers.0.ode_net.coordinate_linear.bias',\n",
       " 'module.auto_encoder.decoder.ode_layers.0.ode_net.last_linear.weight',\n",
       " 'module.auto_encoder.decoder.ode_layers.0.ode_net.last_linear.bias',\n",
       " 'module.auto_encoder.decoder.ode_layers.0.ode_net.layers.0.weight',\n",
       " 'module.auto_encoder.decoder.ode_layers.0.ode_net.layers.0.bias',\n",
       " 'module.auto_encoder.decoder.ode_layers.0.ode_net.layers.1.weight',\n",
       " 'module.auto_encoder.decoder.ode_layers.0.ode_net.layers.1.bias',\n",
       " 'module.auto_encoder.decoder.linear_layer.weight',\n",
       " 'module.auto_encoder.decoder.linear_layer.bias',\n",
       " 'module.auto_encoder.decoder.bsp_field.concave_layer_weights',\n",
       " 'module.auto_encoder.decoder.bsp_field.convex_layer_weights',\n",
       " 'module.auto_encoder.decoder.bsp_field.plane_encoder.linear_1.weight',\n",
       " 'module.auto_encoder.decoder.bsp_field.plane_encoder.linear_1.bias',\n",
       " 'module.auto_encoder.decoder.bsp_field.plane_encoder.linear_2.weight',\n",
       " 'module.auto_encoder.decoder.bsp_field.plane_encoder.linear_2.bias',\n",
       " 'module.auto_encoder.decoder.bsp_field.plane_encoder.linear_3.weight',\n",
       " 'module.auto_encoder.decoder.bsp_field.plane_encoder.linear_3.bias',\n",
       " 'module.auto_encoder.decoder.bsp_field.plane_encoder.linear_4.weight',\n",
       " 'module.auto_encoder.decoder.bsp_field.plane_encoder.linear_4.bias',\n",
       " 'module.auto_encoder.decoder.recognition_decoder.linear_1.weight',\n",
       " 'module.auto_encoder.decoder.recognition_decoder.linear_1.bias',\n",
       " 'module.auto_encoder.decoder.recognition_decoder.linear_2.weight',\n",
       " 'module.auto_encoder.decoder.recognition_decoder.linear_2.bias',\n",
       " 'module.auto_encoder.decoder.recognition_decoder.linear_3.weight',\n",
       " 'module.auto_encoder.decoder.recognition_decoder.linear_3.bias',\n",
       " 'module.auto_encoder.decoder.recognition_decoder.linear_4.weight',\n",
       " 'module.auto_encoder.decoder.recognition_decoder.linear_4.bias']"
      ]
     },
     "execution_count": 5,
     "metadata": {},
     "output_type": "execute_result"
    }
   ],
   "source": [
    "list(network_state_dict.keys())"
   ]
  },
  {
   "cell_type": "code",
   "execution_count": 6,
   "id": "13f48379",
   "metadata": {},
   "outputs": [
    {
     "name": "stdout",
     "output_type": "stream",
     "text": [
      "old style weights\n"
     ]
    }
   ],
   "source": [
    "network_state_dict, is_old_style_weights = AutoEncoder.process_state_dict(network_state_dict, type = 1)\n",
    "if is_old_style_weights:\n",
    "    # Old style weights (Image encoder) has wrong name for encoder type\n",
    "    config = AutoEncoder.fix_old_weights_config(config)"
   ]
  },
  {
   "cell_type": "code",
   "execution_count": 7,
   "id": "7339a785",
   "metadata": {},
   "outputs": [],
   "source": [
    "network = AutoEncoder(config=config).cuda(device_id)"
   ]
  },
  {
   "cell_type": "code",
   "execution_count": 8,
   "id": "016b4459",
   "metadata": {},
   "outputs": [
    {
     "data": {
      "text/plain": [
       "tensor([[ 0.0353,  0.0127],\n",
       "        [ 0.0161,  0.0119],\n",
       "        [ 0.0354,  0.0040],\n",
       "        [ 0.0010,  0.0123],\n",
       "        [ 0.0045,  0.0019],\n",
       "        [ 0.0169,  0.0043],\n",
       "        [ 0.0024,  0.0342],\n",
       "        [ 0.0258, -0.0098],\n",
       "        [-0.0166, -0.0029],\n",
       "        [ 0.0128, -0.0188]], device='cuda:1', grad_fn=<SliceBackward0>)"
      ]
     },
     "execution_count": 8,
     "metadata": {},
     "output_type": "execute_result"
    }
   ],
   "source": [
    "network.decoder.bsp_field.convex_layer_weights[:10, :2]"
   ]
  },
  {
   "cell_type": "code",
   "execution_count": 9,
   "id": "736f46d9",
   "metadata": {},
   "outputs": [],
   "source": [
    "network.load_state_dict(network_state_dict)\n",
    "_ = network.eval()"
   ]
  },
  {
   "cell_type": "code",
   "execution_count": 10,
   "id": "723e02f3",
   "metadata": {},
   "outputs": [],
   "source": [
    "samples = ImNetImageSamples(\n",
    "    data_path='../data/all_vox256_img_with_classes/all_vox256_img_test.hdf5', \n",
    "    label_txt_path='../data/all_vox256_img_with_classes/all_vox256_img_test.txt',\n",
    "    image_idx=23, # Last image, stick to BSP-Net calc\n",
    "    use_depth=False,\n",
    "    image_preferred_color_space=1\n",
    ")"
   ]
  },
  {
   "cell_type": "code",
   "execution_count": 11,
   "id": "f63f1377",
   "metadata": {},
   "outputs": [],
   "source": [
    "sample_interval = 1\n",
    "resolution = 64\n",
    "max_batch = 20000\n",
    "thershold = 0.01\n",
    "with_surface_point = True # TODO: Is it needed here?\n",
    "space_range = (-0.5, 0.5)\n",
    "\n",
    "aggregate_embedding = False"
   ]
  },
  {
   "cell_type": "code",
   "execution_count": 12,
   "id": "c1201271",
   "metadata": {},
   "outputs": [],
   "source": [
    "def get_input_data(samples, i, num_input_data_aggregation, aggregate_embedding, view_use_indx_list):\n",
    "    if aggregate_embedding:\n",
    "        if num_input_data_aggregation is not None and num_input_data_aggregation == -1 and view_use_indx_list is None:\n",
    "            indx_view_iterator = range(samples.view_num)\n",
    "        elif view_use_indx_list is not None and len(view_use_indx_list) > 0:\n",
    "            indx_view_iterator = view_use_indx_list\n",
    "        else:\n",
    "            return [samples[i][0][0] for _ in range(num_input_data_aggregation)]\n",
    "        gathered_data_list = []\n",
    "        for indx_view in indx_view_iterator:\n",
    "            samples.image_idx = indx_view\n",
    "            gathered_data_list.append(\n",
    "                samples[i][0][0]\n",
    "            )\n",
    "        # Can be set to None, we dont care here about value 23 \n",
    "        samples.image_idx = None\n",
    "        return gathered_data_list\n",
    "\n",
    "    return samples[i][0][0]\n",
    "\n",
    "generate_args = [\n",
    "    (\n",
    "        get_input_data(samples, i, None, False, None), \n",
    "        os.path.join('../debug/test', samples.obj_paths[i]), \n",
    "        resolution, max_batch, (-0.5, 0.5), \n",
    "        thershold, with_surface_point\n",
    "    ) \n",
    "    for i in range(10) if i % sample_interval == 0]\n",
    "random.shuffle(generate_args)"
   ]
  },
  {
   "cell_type": "code",
   "execution_count": 16,
   "id": "6f5a4e06",
   "metadata": {},
   "outputs": [
    {
     "data": {
      "text/plain": [
       "(<matplotlib.image.AxesImage at 0x7f5f8404a7f0>, '../debug/test/gen_test_obj')"
      ]
     },
     "execution_count": 16,
     "metadata": {},
     "output_type": "execute_result"
    },
    {
     "data": {
      "image/png": "[encoded data removed]",
      "text/plain": [
       "<Figure size 640x480 with 1 Axes>"
      ]
     },
     "metadata": {},
     "output_type": "display_data"
    }
   ],
   "source": [
    "import matplotlib.pyplot as plt\n",
    "\n",
    "input_data, store_file_path = generate_args[0][:2]\n",
    "store_file_path = '../debug/test/gen_test_obj'\n",
    "\n",
    "plt.imshow(input_data[0]), store_file_path"
   ]
  },
  {
   "cell_type": "code",
   "execution_count": 17,
   "id": "dfa984a1",
   "metadata": {},
   "outputs": [
    {
     "data": {
      "text/plain": [
       "(1, 128, 128)"
      ]
     },
     "execution_count": 17,
     "metadata": {},
     "output_type": "execute_result"
    }
   ],
   "source": [
    "input_data.shape"
   ]
  },
  {
   "cell_type": "code",
   "execution_count": 18,
   "id": "d3d8e98b",
   "metadata": {},
   "outputs": [],
   "source": [
    "if not isinstance(input_data, list) or (isinstance(input_data, list) and len(input_data) == 1):\n",
    "    input_data = torch.from_numpy(input_data[0] if isinstance(input_data, list) else input_data).float().cuda(device_id)\n",
    "    result = network.save_bsp_deform(\n",
    "        inputs=input_data, file_path=store_file_path, resolution=resolution, max_batch=max_batch,\n",
    "        space_range=space_range, thershold_1=thershold, embedding=None,\n",
    "        return_voxel_and_values=True\n",
    "    )\n",
    "elif len(input_data) > 1 and aggregate_embedding:\n",
    "    embeddings_list = []\n",
    "    for input_data_single in input_data:\n",
    "        input_data_single = torch.from_numpy(input_data_single).float().cuda(device_id)\n",
    "        input_data_single = input_data_single.unsqueeze(0)\n",
    "        embeddings_list.append(\n",
    "            network(input_data_single)\n",
    "        )\n",
    "    embedding = torch.stack(embeddings_list).mean(dim=0) # TODO: mean or median?\n",
    "    result = network.save_bsp_deform(\n",
    "        inputs=None, file_path=store_file_path, resolution=resolution, max_batch=max_batch,\n",
    "        space_range=space_range, thershold_1=thershold, embedding=embedding,\n",
    "        return_voxel_and_values=True\n",
    "    )\n",
    "else:\n",
    "    raise Exception('Unknown mode for network.')"
   ]
  },
  {
   "cell_type": "code",
   "execution_count": null,
   "id": "e46bf62e",
   "metadata": {},
   "outputs": [],
   "source": []
  },
  {
   "cell_type": "code",
   "execution_count": null,
   "id": "e2e6dc37",
   "metadata": {},
   "outputs": [],
   "source": []
  },
  {
   "cell_type": "code",
   "execution_count": null,
   "id": "e542f49d",
   "metadata": {},
   "outputs": [],
   "source": []
  },
  {
   "cell_type": "code",
   "execution_count": null,
   "id": "76bd4d92",
   "metadata": {},
   "outputs": [],
   "source": []
  },
  {
   "cell_type": "code",
   "execution_count": 2,
   "id": "5186de7a",
   "metadata": {},
   "outputs": [],
   "source": [
    "config_path = '../pretrain/class_run_1/image_encoder/config.py'\n",
    "network_path = '../pretrain/class_run_1/image_encoder/model_epoch_1000.pth'"
   ]
  },
  {
   "cell_type": "code",
   "execution_count": 3,
   "id": "80bf14a2",
   "metadata": {},
   "outputs": [],
   "source": [
    "spec = importlib.util.spec_from_file_location('*', config_path)\n",
    "config = importlib.util.module_from_spec(spec)\n",
    "spec.loader.exec_module(config)"
   ]
  },
  {
   "cell_type": "code",
   "execution_count": 71,
   "id": "7f8465c8",
   "metadata": {},
   "outputs": [],
   "source": [
    "network_state_dict = torch.load(network_path)"
   ]
  },
  {
   "cell_type": "code",
   "execution_count": null,
   "id": "f3c2b666",
   "metadata": {},
   "outputs": [],
   "source": [
    "list(network_state_dict.keys())"
   ]
  },
  {
   "cell_type": "code",
   "execution_count": 72,
   "id": "55b390cc",
   "metadata": {},
   "outputs": [
    {
     "name": "stdout",
     "output_type": "stream",
     "text": [
      "old style weights\n"
     ]
    }
   ],
   "source": [
    "network_state_dict, is_old_style_weights = AutoEncoder.process_state_dict(network_state_dict, type = 1)\n",
    "if is_old_style_weights:\n",
    "    config = AutoEncoder.fix_old_weights_config(config)"
   ]
  },
  {
   "cell_type": "code",
   "execution_count": null,
   "id": "09f7d514",
   "metadata": {},
   "outputs": [],
   "source": [
    "list(network_state_dict.keys())"
   ]
  },
  {
   "cell_type": "code",
   "execution_count": 73,
   "id": "af7503a7",
   "metadata": {},
   "outputs": [],
   "source": [
    "network = AutoEncoder(config=config)"
   ]
  },
  {
   "cell_type": "code",
   "execution_count": 74,
   "id": "62791813",
   "metadata": {},
   "outputs": [
    {
     "data": {
      "text/plain": [
       "tensor([[ 0.0053, -0.0220, -0.0402],\n",
       "        [ 0.0144,  0.0106,  0.0031],\n",
       "        [-0.0559,  0.0297,  0.0155]], grad_fn=<SelectBackward0>)"
      ]
     },
     "execution_count": 74,
     "metadata": {},
     "output_type": "execute_result"
    }
   ],
   "source": [
    "network.encoder.res_3.conv_1.weight[0, 0]"
   ]
  },
  {
   "cell_type": "code",
   "execution_count": 75,
   "id": "0afe32a6",
   "metadata": {},
   "outputs": [],
   "source": [
    "res = network.load_state_dict(network_state_dict)\n",
    "network = network.to(device)\n",
    "_ = network.eval()"
   ]
  },
  {
   "cell_type": "code",
   "execution_count": 77,
   "id": "fff761fd",
   "metadata": {},
   "outputs": [
    {
     "data": {
      "text/plain": [
       "tensor([[ 0.0401,  0.0629,  0.0790],\n",
       "        [ 0.0539,  0.0378,  0.0276],\n",
       "        [ 0.0231, -0.0094, -0.0343]], device='cuda:0',\n",
       "       grad_fn=<SelectBackward0>)"
      ]
     },
     "execution_count": 77,
     "metadata": {},
     "output_type": "execute_result"
    }
   ],
   "source": [
    "network.encoder.res_3.conv_1.weight[0, 0]"
   ]
  },
  {
   "cell_type": "code",
   "execution_count": 12,
   "id": "f1278cef",
   "metadata": {},
   "outputs": [
    {
     "data": {
      "text/plain": [
       "tensor([[ 9.9997e-01, -3.0198e-05],\n",
       "        [ 1.6074e-06,  1.4381e-05],\n",
       "        [-1.5459e-05,  3.1323e-05],\n",
       "        [-1.0903e-05, -5.7974e-06],\n",
       "        [-1.4553e-05,  1.0000e+00],\n",
       "        [ 9.9999e-01,  9.9999e-01],\n",
       "        [-1.7137e-05, -4.5415e-06],\n",
       "        [-2.4085e-06,  1.5711e-05],\n",
       "        [-1.9372e-05, -1.6469e-05],\n",
       "        [ 4.5245e-06,  8.1758e-06]], device='cuda:0', grad_fn=<SliceBackward0>)"
      ]
     },
     "execution_count": 12,
     "metadata": {},
     "output_type": "execute_result"
    }
   ],
   "source": [
    "network.decoder.bsp_field.convex_layer_weights[:10, :2]"
   ]
  },
  {
   "cell_type": "code",
   "execution_count": 13,
   "id": "aeea476f",
   "metadata": {},
   "outputs": [],
   "source": [
    "samples = ImNetImageSamples(\n",
    "    data_path='../data/all_vox256_img_with_classes/all_vox256_img_test.hdf5', \n",
    "    label_txt_path='../data/all_vox256_img_with_classes/all_vox256_img_test.txt',\n",
    "    image_idx=23, # Last image, stick to BSP-Net calc\n",
    "    use_depth=False,\n",
    "    image_preferred_color_space=1\n",
    ")"
   ]
  },
  {
   "cell_type": "code",
   "execution_count": 14,
   "id": "4a298a7a",
   "metadata": {},
   "outputs": [],
   "source": [
    "sample_interval = 1\n",
    "resolution = 64\n",
    "max_batch = 20000\n",
    "thershold = 0.01\n",
    "with_surface_point = True # TODO: Is it needed here?\n",
    "space_range = (-0.5, 0.5)\n",
    "\n",
    "aggregate_embedding = False"
   ]
  },
  {
   "cell_type": "code",
   "execution_count": 15,
   "id": "3690564e",
   "metadata": {},
   "outputs": [],
   "source": [
    "def get_input_data(samples, i, num_input_data_aggregation, aggregate_embedding, view_use_indx_list):\n",
    "    if aggregate_embedding:\n",
    "        if num_input_data_aggregation is not None and num_input_data_aggregation == -1 and view_use_indx_list is None:\n",
    "            indx_view_iterator = range(samples.view_num)\n",
    "        elif view_use_indx_list is not None and len(view_use_indx_list) > 0:\n",
    "            indx_view_iterator = view_use_indx_list\n",
    "        else:\n",
    "            return [samples[i][0][0] for _ in range(num_input_data_aggregation)]\n",
    "        gathered_data_list = []\n",
    "        for indx_view in indx_view_iterator:\n",
    "            samples.image_idx = indx_view\n",
    "            gathered_data_list.append(\n",
    "                samples[i][0][0]\n",
    "            )\n",
    "        # Can be set to None, we dont care here about value 23 \n",
    "        samples.image_idx = None\n",
    "        return gathered_data_list\n",
    "\n",
    "    return samples[i][0][0]\n",
    "\n",
    "generate_args = [\n",
    "    (\n",
    "        get_input_data(samples, i, None, False, None), \n",
    "        os.path.join('../debug/test', samples.obj_paths[i]), \n",
    "        resolution, max_batch, (-0.5, 0.5), \n",
    "        thershold, with_surface_point\n",
    "    ) \n",
    "    for i in range(10) if i % sample_interval == 0]\n",
    "random.shuffle(generate_args)"
   ]
  },
  {
   "cell_type": "code",
   "execution_count": 78,
   "id": "e1fd8f85",
   "metadata": {},
   "outputs": [
    {
     "data": {
      "text/plain": [
       "(<matplotlib.image.AxesImage at 0x7f546f13af70>,\n",
       " '../debug/test/gen_test_obj',\n",
       " '02691156/d18592d9615b01bbbc0909d98a1ff2b4')"
      ]
     },
     "execution_count": 78,
     "metadata": {},
     "output_type": "execute_result"
    },
    {
     "data": {
      "image/png": "[encoded data removed]",
      "text/plain": [
       "<Figure size 640x480 with 1 Axes>"
      ]
     },
     "metadata": {},
     "output_type": "display_data"
    }
   ],
   "source": [
    "import matplotlib.pyplot as plt\n",
    "\n",
    "input_data = samples.data_pixels[0, 0] / 255.0 # generate_args[0][0] samples.data_pixels[0, 0] / 255.0\n",
    "store_file_path = '../debug/test/gen_test_obj'\n",
    "\n",
    "plt.imshow(input_data[0]), store_file_path, samples.obj_paths[0]"
   ]
  },
  {
   "cell_type": "code",
   "execution_count": 57,
   "id": "021b8e85",
   "metadata": {},
   "outputs": [
    {
     "data": {
      "text/plain": [
       "(1, 128, 128)"
      ]
     },
     "execution_count": 57,
     "metadata": {},
     "output_type": "execute_result"
    }
   ],
   "source": [
    "input_data.shape"
   ]
  },
  {
   "cell_type": "code",
   "execution_count": 49,
   "id": "6e6eaf5a",
   "metadata": {},
   "outputs": [],
   "source": [
    "if not isinstance(input_data, list) or (isinstance(input_data, list) and len(input_data) == 1):\n",
    "    input_data = torch.from_numpy(input_data[0] if isinstance(input_data, list) else input_data).float().to(device)\n",
    "    result = network.save_bsp_deform(\n",
    "        inputs=input_data, file_path=store_file_path, resolution=resolution, max_batch=max_batch,\n",
    "        space_range=space_range, thershold_1=thershold, embedding=None,\n",
    "        return_voxel_and_values=True\n",
    "    )\n",
    "elif len(input_data) > 1 and aggregate_embedding:\n",
    "    embeddings_list = []\n",
    "    for input_data_single in input_data:\n",
    "        input_data_single = torch.from_numpy(input_data_single).float().to(device)\n",
    "        input_data_single = input_data_single.unsqueeze(0)\n",
    "        embeddings_list.append(\n",
    "            network(input_data_single)\n",
    "        )\n",
    "    embedding = torch.stack(embeddings_list).mean(dim=0) # TODO: mean or median?\n",
    "    result = network.save_bsp_deform(\n",
    "        inputs=None, file_path=store_file_path, resolution=resolution, max_batch=max_batch,\n",
    "        space_range=space_range, thershold_1=thershold, embedding=embedding,\n",
    "        return_voxel_and_values=True\n",
    "    )\n",
    "else:\n",
    "    raise Exception('Unknown mode for network.')"
   ]
  },
  {
   "cell_type": "code",
   "execution_count": null,
   "id": "4b307e8c",
   "metadata": {},
   "outputs": [],
   "source": []
  },
  {
   "cell_type": "code",
   "execution_count": 79,
   "id": "8b36b11b",
   "metadata": {},
   "outputs": [],
   "source": [
    "embedding = network(torch.from_numpy(input_data).float().to(device).unsqueeze(0))\n",
    "(vertices, polygons, vertices_deformed, polygons_deformed, \n",
    " embedding, vertices_convex, bsp_convex_list, pd_class,\n",
    " convex_predictions_sum, point_value_prediction) = network.save_bsp_deform(\n",
    "    inputs=None, file_path=None, resolution=resolution, max_batch=max_batch,\n",
    "    space_range=space_range, thershold_1=thershold, embedding=embedding,\n",
    "    return_voxel_and_values=True, save_output=False\n",
    ")"
   ]
  },
  {
   "cell_type": "code",
   "execution_count": 80,
   "id": "744e0099",
   "metadata": {},
   "outputs": [
    {
     "data": {
      "text/plain": [
       "(tensor(0.5000, device='cuda:0', grad_fn=<MeanBackward0>),\n",
       " tensor(0.4448, device='cuda:0', grad_fn=<StdBackward0>))"
      ]
     },
     "execution_count": 80,
     "metadata": {},
     "output_type": "execute_result"
    }
   ],
   "source": [
    "embedding.mean(), embedding.std()"
   ]
  },
  {
   "cell_type": "code",
   "execution_count": 81,
   "id": "c1a9c8b0",
   "metadata": {},
   "outputs": [
    {
     "data": {
      "text/plain": [
       "tensor([9.9942e-01, 9.9998e-01, 1.0000e+00, 1.0000e+00, 9.9990e-01, 9.9998e-01,\n",
       "        9.9999e-01, 4.0829e-01, 1.5275e-05, 1.0000e+00], device='cuda:0',\n",
       "       grad_fn=<SliceBackward0>)"
      ]
     },
     "execution_count": 81,
     "metadata": {},
     "output_type": "execute_result"
    }
   ],
   "source": [
    "embedding[0, :10]"
   ]
  },
  {
   "cell_type": "code",
   "execution_count": 82,
   "id": "f2842024",
   "metadata": {},
   "outputs": [],
   "source": [
    "from utils.other_utils import write_ply_polygon\n",
    "\n",
    "write_ply_polygon('mesh_deformed.ply', vertices_deformed, polygons_deformed)\n",
    "write_ply_polygon('mesh_orginal.ply', vertices, polygons)"
   ]
  },
  {
   "cell_type": "code",
   "execution_count": null,
   "id": "549bc716",
   "metadata": {},
   "outputs": [],
   "source": []
  }
 ],
 "metadata": {
  "kernelspec": {
   "display_name": "Python 3 (ipykernel)",
   "language": "python",
   "name": "python3"
  },
  "language_info": {
   "codemirror_mode": {
    "name": "ipython",
    "version": 3
   },
   "file_extension": ".py",
   "mimetype": "text/x-python",
   "name": "python",
   "nbconvert_exporter": "python",
   "pygments_lexer": "ipython3",
   "version": "3.8.10"
  }
 },
 "nbformat": 4,
 "nbformat_minor": 5
}
