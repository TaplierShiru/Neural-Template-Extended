{
 "cells": [
  {
   "cell_type": "code",
   "execution_count": 1,
   "id": "0bfd0d52",
   "metadata": {},
   "outputs": [],
   "source": [
    "import h5py\n",
    "import os\n",
    "import numpy as np"
   ]
  },
  {
   "cell_type": "code",
   "execution_count": 2,
   "id": "69c6e2de",
   "metadata": {},
   "outputs": [],
   "source": [
    "type_file = 'test'\n",
    "\n",
    "name = f'./all_vox256_img_with_classes/all_vox256_img_{type_file}.hdf5'\n",
    "txt_path = f'./all_vox256_img_with_classes/all_vox256_img_{type_file}.txt'\n",
    "\n",
    "hdf5_file = h5py.File(name, 'a')\n",
    "obj_paths = [line.rstrip('\\n') for line in open(txt_path, mode='r').readlines()]\n",
    "num_elements = hdf5_file['voxels'].shape[0]\n",
    "assert num_elements == len(obj_paths)\n",
    "\n",
    "classes_names = list(set(map(lambda x: x.split(os.sep)[0], obj_paths)))\n",
    "classes_names = list(sorted(classes_names))\n",
    "indx2class = map(lambda x: classes_names.index(x.split(os.sep)[0]), obj_paths)\n",
    "indx2class = np.array(list(indx2class), dtype=np.uint8).reshape((-1,))"
   ]
  },
  {
   "cell_type": "code",
   "execution_count": 3,
   "id": "9c0d09c2",
   "metadata": {},
   "outputs": [
    {
     "data": {
      "text/plain": [
       "(array([ 0,  1,  2,  3,  4,  5,  6,  7,  8,  9, 10, 11, 12], dtype=uint8),\n",
       " array([ 809,  364,  315, 1500, 1356,  219,  464,  324,  475,  635, 1702,\n",
       "         211,  388]))"
      ]
     },
     "execution_count": 3,
     "metadata": {},
     "output_type": "execute_result"
    }
   ],
   "source": [
    "np.unique(indx2class, return_counts=True)"
   ]
  },
  {
   "cell_type": "code",
   "execution_count": 4,
   "id": "9ce3a029",
   "metadata": {},
   "outputs": [],
   "source": [
    "hdf5_file.create_dataset(\"classes\", [num_elements], np.uint8, compression=9)\n",
    "hdf5_file['classes'][:] = indx2class[:]"
   ]
  },
  {
   "cell_type": "code",
   "execution_count": 5,
   "id": "7f39a118",
   "metadata": {},
   "outputs": [],
   "source": [
    "hdf5_file.close()"
   ]
  },
  {
   "cell_type": "code",
   "execution_count": null,
   "id": "fec1d2f7",
   "metadata": {},
   "outputs": [],
   "source": []
  },
  {
   "cell_type": "markdown",
   "id": "6463b77a",
   "metadata": {},
   "source": [
    "### Test"
   ]
  },
  {
   "cell_type": "code",
   "execution_count": 3,
   "id": "4c6d7c1b",
   "metadata": {},
   "outputs": [],
   "source": [
    "type_file = 'test'\n",
    "\n",
    "name = f'./all_vox256_img_with_classes/all_vox256_img_{type_file}.hdf5'\n",
    "txt_path = f'./all_vox256_img_with_classes/all_vox256_img_{type_file}.txt'\n",
    "\n",
    "hdf5_file = h5py.File(name, 'r')\n",
    "obj_paths = [line.rstrip('\\n') for line in open(txt_path, mode='r').readlines()]\n",
    "num_elements = hdf5_file['voxels'].shape[0]\n",
    "assert num_elements == len(obj_paths)\n",
    "\n",
    "classes_names = list(set(map(lambda x: x.split(os.sep)[0], obj_paths)))\n",
    "classes_names = list(sorted(classes_names))\n",
    "indx2class = map(lambda x: classes_names.index(x.split(os.sep)[0]), obj_paths)\n",
    "indx2class = np.array(list(indx2class), dtype=np.uint8).reshape((-1,))"
   ]
  },
  {
   "cell_type": "code",
   "execution_count": 7,
   "id": "6efaa089",
   "metadata": {},
   "outputs": [
    {
     "data": {
      "text/plain": [
       "(array([6, 6, 6, 6, 7, 7, 7], dtype=uint8),\n",
       " array([6, 6, 6, 6, 7, 7, 7], dtype=uint8))"
      ]
     },
     "execution_count": 7,
     "metadata": {},
     "output_type": "execute_result"
    }
   ],
   "source": [
    "hdf5_file['classes'][5023:5030], indx2class[5023:5030]"
   ]
  },
  {
   "cell_type": "code",
   "execution_count": 8,
   "id": "e2a042d9",
   "metadata": {},
   "outputs": [
    {
     "data": {
      "text/plain": [
       "['03636649/ff43ef647c75b5a4fcb8d8c6d4df8143',\n",
       " '03636649/ffc2479f27a1013afcec439ba0368db0',\n",
       " '03636649/ffc3e351b9ae77b0d42b9650f19dd425',\n",
       " '03636649/fff6acd5b543ae02a9bdc22a1e02e82',\n",
       " '03691459/c90cbb0458648665da49a3feeb6532eb',\n",
       " '03691459/c91e878553979be9c5c378bd9e63485',\n",
       " '03691459/c91f926711d5e8261d485f425cc21556']"
      ]
     },
     "execution_count": 8,
     "metadata": {},
     "output_type": "execute_result"
    }
   ],
   "source": [
    "obj_paths[5023:5030]"
   ]
  },
  {
   "cell_type": "code",
   "execution_count": null,
   "id": "0e7df42d",
   "metadata": {},
   "outputs": [],
   "source": []
  },
  {
   "cell_type": "code",
   "execution_count": 12,
   "id": "3a3170ba",
   "metadata": {},
   "outputs": [],
   "source": [
    "a = (1,2,3)"
   ]
  },
  {
   "cell_type": "code",
   "execution_count": 13,
   "id": "eacecb84",
   "metadata": {},
   "outputs": [
    {
     "data": {
      "text/plain": [
       "(1, 2, 3, 10)"
      ]
     },
     "execution_count": 13,
     "metadata": {},
     "output_type": "execute_result"
    }
   ],
   "source": [
    "(*a, 10)"
   ]
  },
  {
   "cell_type": "code",
   "execution_count": null,
   "id": "d523baa7",
   "metadata": {},
   "outputs": [],
   "source": []
  }
 ],
 "metadata": {
  "kernelspec": {
   "display_name": "Python 3 (ipykernel)",
   "language": "python",
   "name": "python3"
  },
  "language_info": {
   "codemirror_mode": {
    "name": "ipython",
    "version": 3
   },
   "file_extension": ".py",
   "mimetype": "text/x-python",
   "name": "python",
   "nbconvert_exporter": "python",
   "pygments_lexer": "ipython3",
   "version": "3.8.10"
  }
 },
 "nbformat": 4,
 "nbformat_minor": 5
}
